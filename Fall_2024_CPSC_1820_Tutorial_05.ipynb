{
  "nbformat": 4,
  "nbformat_minor": 0,
  "metadata": {
    "colab": {
      "provenance": [],
      "include_colab_link": true
    },
    "kernelspec": {
      "name": "python3",
      "display_name": "Python 3"
    },
    "language_info": {
      "name": "python"
    }
  },
  "cells": [
    {
      "cell_type": "markdown",
      "metadata": {
        "id": "view-in-github",
        "colab_type": "text"
      },
      "source": [
        "<a href=\"https://colab.research.google.com/github/Ericson0372/CPSC-1820-Tutorial-05/blob/main/Fall_2024_CPSC_1820_Tutorial_05.ipynb\" target=\"_parent\"><img src=\"https://colab.research.google.com/assets/colab-badge.svg\" alt=\"Open In Colab\"/></a>"
      ]
    },
    {
      "cell_type": "markdown",
      "source": [
        "# Functions\n",
        "\n",
        "We will look at how to define functions in Python. We will then look at composition of functions. Finally, there will be an exercise for you to complete (based on the code shown in this notebook).\n",
        "\n",
        "Let's begin by defining a simple function $f : N \\rightarrow N$,\n",
        "where `f(x) = 2x` and $N=\\{0, 1,2,3, \\ldots,\\}$\n",
        "\n",
        "To define this function we need two keywords `def` and `return` along with a way to specify the domain and the body of the function. The code is shown below.\n",
        "\n",
        "##A1: Change the input and rerun the function. Convince yourself that `f(x)` returns `2*x`*"
      ],
      "metadata": {
        "id": "RF5Jq_DWxEdm"
      }
    },
    {
      "cell_type": "code",
      "source": [
        "def f(x) :\n",
        "  return 2*x\n",
        "\n",
        "print(f(5))"
      ],
      "metadata": {
        "id": "-rv6Z1BkxHcK",
        "colab": {
          "base_uri": "https://localhost:8080/"
        },
        "outputId": "f0791a54-b90f-48a3-c225-927441bce8d3"
      },
      "execution_count": null,
      "outputs": [
        {
          "output_type": "stream",
          "name": "stdout",
          "text": [
            "10\n"
          ]
        }
      ]
    },
    {
      "cell_type": "code",
      "source": [
        "def sum(a,b):\n",
        "  #write your code here\n",
        "  #edit the return statement here to return summation of series from a to b\n",
        "  return\n",
        "\n",
        "# let a = 2, b =3 complete the code\n",
        "print(sum(#,#))"
      ],
      "metadata": {
        "id": "j_M_rOdfPvvk",
        "colab": {
          "base_uri": "https://localhost:8080/"
        },
        "outputId": "9528d28e-f30d-431d-d327-a2a900e8e5cb"
      },
      "execution_count": null,
      "outputs": [
        {
          "output_type": "stream",
          "name": "stdout",
          "text": [
            "5\n"
          ]
        }
      ]
    },
    {
      "cell_type": "markdown",
      "source": [
        "# Composite Functions\n",
        "Let f : A → B and g : B → C be two functions. Then the composition of f and g, denoted by g ∘ f, is defined as the function g ∘ f : A → C given by\n",
        "\n",
        "$g ∘ f (x) = g(f (x)), ∀_x ∈ A$.\n",
        "\n",
        "# Example\n",
        "\n",
        "Consider $f(x) = x^2$ and $g(x) = 3x$\n",
        "\n",
        "$(f ∘ g) (x)$ can be written as $f(g(x))$\n",
        "\n",
        "$(f ∘ g)(x) = f(3x)$      [since $g(x) = 3x$]\n",
        "\n",
        "$f(3x) = (3x)^2$       [since $f(x) = x^2$]\n",
        "\n",
        "Therefore,\n",
        "\n",
        "$(f ∘ g) (x) = 9x^2$\n"
      ],
      "metadata": {
        "id": "bMUSayicb7Qc"
      }
    },
    {
      "cell_type": "markdown",
      "source": [
        "##A2: Write the code to compute where ∘ is the composition\n",
        "\n",
        "+ (f ∘ f) (1)\n",
        "+ (f ∘ f ∘ f) (1)\n",
        "+ (f ∘ f ∘ f ∘ f) (1)\n",
        "\n",
        "Note that if we compose $f$, $k$ times and apply it to input 1 then the result is $2^k$.\n",
        "\n",
        "$$ \\underbrace{(f \\circ f \\circ \\ldots \\circ f  )(1)}_{k~~times} = 2^k$$\n",
        "\n",
        "Next, we will write a function that will take $k$ as an argument and compose `f` k times then apply it to `1` (well sort of, net effect is the same)."
      ],
      "metadata": {
        "id": "yAK5oulLyx1A"
      }
    },
    {
      "cell_type": "code",
      "source": [
        "# write three lines. one for each case above.\n",
        "def compose(k):\n",
        "  #write your code here\n",
        "\n",
        "print(compose(2))\n",
        "print(compose(3))\n",
        "print(compose(4))"
      ],
      "metadata": {
        "id": "dZpaeAJIyUKm"
      },
      "execution_count": null,
      "outputs": []
    },
    {
      "cell_type": "markdown",
      "source": [
        "##A3: Let's rewrite `f` to keep track of the input `x` and the number of times `f` is to be composed `k`. We will call it `g` which take a 2-tuple `(acc, k)` as argument. `acc` will be 1 at the start, `k` specific number of times we need to compose `g`. `acc` will finally contain the value $2^k$.\n",
        "\n",
        "Let us examine the two cases below:\n",
        "\n",
        "+ $k=0$ in this case `g` returns `(acc, k)` and we have the answer in `acc`.\n",
        "+ $k > 0$ in this case we need to apply `g` on input `(2*acc, k-1)`. The code below does exactly that.\n",
        "\n",
        "Note when $k >0$ we update `acc, k` both and call `g` again. This update to `acc` can be considered as one application of the function.\n",
        "\n",
        "The `return` in front of the call to `g` is important and more on this later classes (after we have covered induction)."
      ],
      "metadata": {
        "id": "qnA6gDCL0aZz"
      }
    },
    {
      "cell_type": "code",
      "source": [
        "def g (args) :\n",
        "  print(args)\n",
        "  (acc, k) = args\n",
        "  if (k==0) :\n",
        "    return args\n",
        "  acc = 2*acc\n",
        "  k = k-1\n",
        "return g((acc, k))"
      ],
      "metadata": {
        "id": "EfjdYJr0zY0_"
      },
      "execution_count": null,
      "outputs": []
    },
    {
      "cell_type": "code",
      "source": [
        "g((1,10)) # Compute 2^10"
      ],
      "metadata": {
        "id": "rFtolQGp2WOj",
        "colab": {
          "base_uri": "https://localhost:8080/"
        },
        "outputId": "e192819d-9445-462b-faed-827f73888941"
      },
      "execution_count": null,
      "outputs": [
        {
          "output_type": "stream",
          "name": "stdout",
          "text": [
            "(1, 10)\n",
            "(2, 9)\n",
            "(4, 8)\n",
            "(8, 7)\n",
            "(16, 6)\n",
            "(32, 5)\n",
            "(64, 4)\n",
            "(128, 3)\n",
            "(256, 2)\n",
            "(512, 1)\n",
            "(1024, 0)\n"
          ]
        },
        {
          "output_type": "execute_result",
          "data": {
            "text/plain": [
              "(1024, 0)"
            ]
          },
          "metadata": {},
          "execution_count": 3
        }
      ]
    },
    {
      "cell_type": "markdown",
      "source": [
        "##A4: Modify the code above to compute $3^k$ using the call `g(1,k)`."
      ],
      "metadata": {
        "id": "lp7QJpsS5P2c"
      }
    },
    {
      "cell_type": "code",
      "source": [
        "# write the code to compute 3^k.\n",
        "\n",
        "\n",
        "def g (args) :\n",
        "  #write your code here\n",
        "\n",
        "# use the line below to check the code, answer should be 27.\n",
        "print( g((1,3)))"
      ],
      "metadata": {
        "id": "r73xKn402YVT"
      },
      "execution_count": null,
      "outputs": []
    },
    {
      "cell_type": "markdown",
      "source": [
        "##A5: The next step is to generalize this code. We want to compute $a^k$ for any integer $a$.  Let's add $a$ as one of the arguments to the function because the place where we update `acc` we will have to use `acc= a * acc`.\n",
        "\n",
        "Add this modification and Fix the call at the end of the function (after the `return`) and use the code to compute $2^{10}, 3^{10}, 5^{10}$.\n",
        "\n",
        "Note that `h(1,k,a)` should return $a^k$."
      ],
      "metadata": {
        "id": "os-owe4U6R1H"
      }
    },
    {
      "cell_type": "code",
      "source": [
        "# write the code to compute a^k.\n",
        "def h (args) :\n",
        "  (acc, k, a) = args\n",
        "  if (k==0) :\n",
        "    return args\n",
        "  # add your code here\n",
        "  k = k-1\n",
        "  # fix the line below and uncomment\n",
        "  # return h((acc, k, ?))\n",
        "print( h((1,10,5)))"
      ],
      "metadata": {
        "id": "zY2DfmQc62rJ"
      },
      "execution_count": null,
      "outputs": []
    },
    {
      "cell_type": "code",
      "source": [
        "2**10, 3**10, 5**10"
      ],
      "metadata": {
        "id": "bffrIAt87BnF",
        "colab": {
          "base_uri": "https://localhost:8080/"
        },
        "outputId": "a51e4568-2136-4365-8067-935e8342a67d"
      },
      "execution_count": null,
      "outputs": [
        {
          "output_type": "execute_result",
          "data": {
            "text/plain": [
              "(1024, 59049, 9765625)"
            ]
          },
          "metadata": {},
          "execution_count": 4
        }
      ]
    }
  ]
}