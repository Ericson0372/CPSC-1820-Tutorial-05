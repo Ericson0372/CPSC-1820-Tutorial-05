{
  "cells": [
    {
      "cell_type": "markdown",
      "metadata": {
        "colab_type": "text",
        "id": "view-in-github"
      },
      "source": [
        "<a href=\"https://colab.research.google.com/github/Ericson0372/CPSC-1820-Tutorial-05/blob/main/Fall_2024_CPSC_1820_Tutorial_05.ipynb\" target=\"_parent\"><img src=\"https://colab.research.google.com/assets/colab-badge.svg\" alt=\"Open In Colab\"/></a>"
      ]
    },
    {
      "cell_type": "markdown",
      "metadata": {
        "id": "RF5Jq_DWxEdm"
      },
      "source": [
        "# Functions\n",
        "\n",
        "We will look at how to define functions in Python. We will then look at composition of functions. Finally, there will be an exercise for you to complete (based on the code shown in this notebook).\n",
        "\n",
        "Let's begin by defining a simple function $f : N \\rightarrow N$,\n",
        "where `f(x) = 2x` and $N=\\{0, 1,2,3, \\ldots,\\}$\n",
        "\n",
        "To define this function we need two keywords `def` and `return` along with a way to specify the domain and the body of the function. The code is shown below.\n",
        "\n",
        "##A1: Change the input and rerun the function. Convince yourself that `f(x)` returns `2*x`*"
      ]
    },
    {
      "cell_type": "code",
      "execution_count": 1,
      "metadata": {
        "colab": {
          "base_uri": "https://localhost:8080/"
        },
        "id": "-rv6Z1BkxHcK",
        "outputId": "f0791a54-b90f-48a3-c225-927441bce8d3"
      },
      "outputs": [
        {
          "name": "stdout",
          "output_type": "stream",
          "text": [
            "10\n",
            "4\n"
          ]
        }
      ],
      "source": [
        "def f(x) :\n",
        "  return 2*x\n",
        "\n",
        "print(f(5))\n",
        "print(f(2))"
      ]
    },
    {
      "cell_type": "code",
      "execution_count": null,
      "metadata": {
        "colab": {
          "base_uri": "https://localhost:8080/"
        },
        "id": "j_M_rOdfPvvk",
        "outputId": "9528d28e-f30d-431d-d327-a2a900e8e5cb"
      },
      "outputs": [
        {
          "name": "stdout",
          "output_type": "stream",
          "text": [
            "5\n"
          ]
        }
      ],
      "source": [
        "def sum(a,b):\n",
        "  #write your code here\n",
        "  #edit the return statement here to return summation of series from a to b\n",
        "  return\n",
        "\n",
        "# let a = 2, b =3 complete the code\n",
        "print(sum(#,#))"
      ]
    },
    {
      "cell_type": "markdown",
      "metadata": {
        "id": "bMUSayicb7Qc"
      },
      "source": [
        "# Composite Functions\n",
        "Let f : A → B and g : B → C be two functions. Then the composition of f and g, denoted by g ∘ f, is defined as the function g ∘ f : A → C given by\n",
        "\n",
        "$g ∘ f (x) = g(f (x)), ∀_x ∈ A$.\n",
        "\n",
        "# Example\n",
        "\n",
        "Consider $f(x) = x^2$ and $g(x) = 3x$\n",
        "\n",
        "$(f ∘ g) (x)$ can be written as $f(g(x))$\n",
        "\n",
        "$(f ∘ g)(x) = f(3x)$      [since $g(x) = 3x$]\n",
        "\n",
        "$f(3x) = (3x)^2$       [since $f(x) = x^2$]\n",
        "\n",
        "Therefore,\n",
        "\n",
        "$(f ∘ g) (x) = 9x^2$\n"
      ]
    },
    {
      "cell_type": "markdown",
      "metadata": {
        "id": "yAK5oulLyx1A"
      },
      "source": [
        "##A2: Write the code to compute where ∘ is the composition\n",
        "\n",
        "+ (f ∘ f) (1)\n",
        "+ (f ∘ f ∘ f) (1)\n",
        "+ (f ∘ f ∘ f ∘ f) (1)\n",
        "\n",
        "Note that if we compose $f$, $k$ times and apply it to input 1 then the result is $2^k$.\n",
        "\n",
        "$$ \\underbrace{(f \\circ f \\circ \\ldots \\circ f  )(1)}_{k~~times} = 2^k$$\n",
        "\n",
        "Next, we will write a function that will take $k$ as an argument and compose `f` k times then apply it to `1` (well sort of, net effect is the same)."
      ]
    },
    {
      "cell_type": "code",
      "execution_count": 14,
      "metadata": {
        "id": "dZpaeAJIyUKm"
      },
      "outputs": [
        {
          "name": "stdout",
          "output_type": "stream",
          "text": [
            "1\n",
            "1\n",
            "1\n"
          ]
        }
      ],
      "source": [
        "# write three lines. one for each case above.\n",
        "def funct(x):\n",
        "  return x ** 2\n",
        "\n",
        "def compose(k):\n",
        "  result = 1\n",
        "  for _ in range(k):\n",
        "    result = funct(result)\n",
        "  return result\n",
        "\n",
        "print(compose(2))\n",
        "print(compose(3))\n",
        "print(compose(4))"
      ]
    },
    {
      "cell_type": "markdown",
      "metadata": {
        "id": "qnA6gDCL0aZz"
      },
      "source": [
        "##A3: Let's rewrite `f` to keep track of the input `x` and the number of times `f` is to be composed `k`. We will call it `g` which take a 2-tuple `(acc, k)` as argument. `acc` will be 1 at the start, `k` specific number of times we need to compose `g`. `acc` will finally contain the value $2^k$.\n",
        "\n",
        "Let us examine the two cases below:\n",
        "\n",
        "+ $k=0$ in this case `g` returns `(acc, k)` and we have the answer in `acc`.\n",
        "+ $k > 0$ in this case we need to apply `g` on input `(2*acc, k-1)`. The code below does exactly that.\n",
        "\n",
        "Note when $k >0$ we update `acc, k` both and call `g` again. This update to `acc` can be considered as one application of the function.\n",
        "\n",
        "The `return` in front of the call to `g` is important and more on this later classes (after we have covered induction)."
      ]
    },
    {
      "cell_type": "code",
      "execution_count": 84,
      "metadata": {
        "id": "EfjdYJr0zY0_"
      },
      "outputs": [],
      "source": [
        "\n",
        "def g (args) :\n",
        "  RecurNum = args[1]\n",
        "  print(f\"{args}# of Recursion: {str(RecurNum)[::-1]}\" )\n",
        "  (acc, k) = args\n",
        "  if (k==0) :\n",
        "    return args + (\"Recursion complete\",)\n",
        "  acc = 2*acc\n",
        "  k = k-1\n",
        "  return g((acc, k))"
      ]
    },
    {
      "cell_type": "code",
      "execution_count": 85,
      "metadata": {
        "colab": {
          "base_uri": "https://localhost:8080/"
        },
        "id": "rFtolQGp2WOj",
        "outputId": "e192819d-9445-462b-faed-827f73888941"
      },
      "outputs": [
        {
          "name": "stdout",
          "output_type": "stream",
          "text": [
            "(2, 10)# of Recursion: 01\n",
            "(4, 9)# of Recursion: 9\n",
            "(8, 8)# of Recursion: 8\n",
            "(16, 7)# of Recursion: 7\n",
            "(32, 6)# of Recursion: 6\n",
            "(64, 5)# of Recursion: 5\n",
            "(128, 4)# of Recursion: 4\n",
            "(256, 3)# of Recursion: 3\n",
            "(512, 2)# of Recursion: 2\n",
            "(1024, 1)# of Recursion: 1\n",
            "(2048, 0)# of Recursion: 0\n"
          ]
        },
        {
          "data": {
            "text/plain": [
              "(2048, 0, 'Recursion complete')"
            ]
          },
          "execution_count": 85,
          "metadata": {},
          "output_type": "execute_result"
        }
      ],
      "source": [
        "g((2,10)) # Compute 2^10"
      ]
    },
    {
      "cell_type": "markdown",
      "metadata": {
        "id": "lp7QJpsS5P2c"
      },
      "source": [
        "##A4: Modify the code above to compute $3^k$ using the call `g(1,k)`."
      ]
    },
    {
      "cell_type": "code",
      "execution_count": 86,
      "metadata": {
        "id": "r73xKn402YVT"
      },
      "outputs": [
        {
          "name": "stdout",
          "output_type": "stream",
          "text": [
            "(1, 3)# of Recursion: 3\n",
            "(3, 2)# of Recursion: 2\n",
            "(9, 1)# of Recursion: 1\n",
            "(27, 0)# of Recursion: 0\n",
            "(27, 0, 'Recursion complete')\n"
          ]
        }
      ],
      "source": [
        "# write the code to compute 3^k.\n",
        "\n",
        "\n",
        "def g (args) :\n",
        "  RecurNum = args[1]\n",
        "  print(f\"{args}# of Recursion: {str(RecurNum)[::-1]}\" )\n",
        "  (acc, k) = args\n",
        "  if (k==0) :\n",
        "    return args + (\"Recursion complete\",)\n",
        "  acc = 3*acc\n",
        "  k = k-1\n",
        "  return g((acc, k))\n",
        "\n",
        "# use the line below to check the code, answer should be 27.\n",
        "print( g((1,3)))"
      ]
    },
    {
      "cell_type": "markdown",
      "metadata": {
        "id": "os-owe4U6R1H"
      },
      "source": [
        "##A5: The next step is to generalize this code. We want to compute $a^k$ for any integer $a$.  Let's add $a$ as one of the arguments to the function because the place where we update `acc` we will have to use `acc= a * acc`.\n",
        "\n",
        "Add this modification and Fix the call at the end of the function (after the `return`) and use the code to compute $2^{10}, 3^{10}, 5^{10}$.\n",
        "\n",
        "Note that `h(1,k,a)` should return $a^k$."
      ]
    },
    {
      "cell_type": "code",
      "execution_count": null,
      "metadata": {
        "id": "zY2DfmQc62rJ"
      },
      "outputs": [],
      "source": [
        "# write the code to compute a^k.\n",
        "def h (args) :\n",
        "  (acc, k, a) = args\n",
        "  if (k==0) :\n",
        "    return args\n",
        "  # add your code here\n",
        "  k = k-1\n",
        "  # fix the line below and uncomment\n",
        "  # return h((acc, k, ?))\n",
        "print( h((1,10,5)))"
      ]
    },
    {
      "cell_type": "code",
      "execution_count": 87,
      "metadata": {
        "colab": {
          "base_uri": "https://localhost:8080/"
        },
        "id": "bffrIAt87BnF",
        "outputId": "a51e4568-2136-4365-8067-935e8342a67d"
      },
      "outputs": [
        {
          "data": {
            "text/plain": [
              "(1024, 59049, 9765625)"
            ]
          },
          "execution_count": 87,
          "metadata": {},
          "output_type": "execute_result"
        }
      ],
      "source": [
        "2**10, 3**10, 5**10"
      ]
    }
  ],
  "metadata": {
    "colab": {
      "include_colab_link": true,
      "provenance": []
    },
    "kernelspec": {
      "display_name": "Python 3",
      "name": "python3"
    },
    "language_info": {
      "codemirror_mode": {
        "name": "ipython",
        "version": 3
      },
      "file_extension": ".py",
      "mimetype": "text/x-python",
      "name": "python",
      "nbconvert_exporter": "python",
      "pygments_lexer": "ipython3",
      "version": "3.12.7"
    }
  },
  "nbformat": 4,
  "nbformat_minor": 0
}
